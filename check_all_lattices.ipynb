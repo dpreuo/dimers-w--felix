{
 "cells": [
  {
   "cell_type": "code",
   "execution_count": 9,
   "metadata": {},
   "outputs": [],
   "source": [
    "from koala.pointsets import uniform\n",
    "from koala import graph_utils as gu\n",
    "from koala import plotting as pl\n",
    "from koala.voronization import generate_lattice\n",
    "from koala.graph_color import color_lattice\n",
    "import math\n",
    "from koala.flux_finder import fluxes_from_ujk, ujk_from_fluxes\n",
    "from koala.lattice import Lattice\n",
    "from scipy import linalg as la\n",
    "\n",
    "from functions.koala_plantri import plantri_to_koala, read_plantri\n",
    "\n",
    "import numpy as np\n",
    "import matplotlib.pyplot as plt\n",
    "import matplotlib as mpl\n",
    "\n",
    "cmap = mpl.colormaps[\"Blues\"]\n"
   ]
  },
  {
   "cell_type": "code",
   "execution_count": 11,
   "metadata": {},
   "outputs": [
    {
     "name": "stdout",
     "output_type": "stream",
     "text": [
      "Lattices found:  1543\n"
     ]
    }
   ],
   "source": [
    "filename = \"all_graphs/graphs_out_18\"\n",
    "lats = read_plantri(filename, verbose=True)\n",
    "\n",
    "\n",
    "\n",
    "for l in lats:\n",
    "    lattice = plantri_to_koala(l)\n",
    "    dual = gu.make_dual(lattice)\n",
    "\n",
    "    all_dimerisations = gu.dimerise(lattice,5000)\n",
    "    \n",
    "    plaquette_scores = np.zeros([all_dimerisations.shape[0], lattice.n_plaquettes])\n",
    "    for i, dimerisation in enumerate(all_dimerisations):\n",
    "        plaquette_scores[i] = np.array(\n",
    "            [np.sum(1 - 2 * dimerisation[p.edges]) for p in lattice.plaquettes]\n",
    "        )\n",
    "    plaquette_scores = np.array(plaquette_scores) / 2\n",
    "\n",
    "    colors = cmap(np.linspace(0, 1, np.max([plaquette_scores.astype(\"int\")]) + 1))\n",
    "\n",
    "    external_scores = lattice.n_plaquettes - 1 - np.sum(plaquette_scores, axis=1)\n",
    "    external_scores = external_scores.astype(int)\n",
    "    how_flippable = np.sum(plaquette_scores == 0, axis=1) + (external_scores == 0)\n",
    "\n",
    "    least_flipped = np.min(how_flippable)\n",
    "    least_flippable_indices = np.where(how_flippable == least_flipped)[0]\n",
    "    least_flippable_dimerisations = all_dimerisations[least_flippable_indices]\n",
    "    num_least = least_flippable_indices.shape[0]\n",
    "\n",
    "    most_flipped = np.max(how_flippable)\n",
    "    most_flippable_indices = np.where(how_flippable == most_flipped)[0]\n",
    "    most_flippable_dimerisations = all_dimerisations[most_flippable_indices]\n",
    "    num_most = most_flippable_indices.shape[0]\n",
    "    \n",
    "    # if least_flipped == 3:\n",
    "    #     print(f'{len(all_dimerisations)} dimerisations')\n",
    "    #     print(\n",
    "    #         f\"{num_least} dimerisations have {least_flipped}/{lattice.n_plaquettes+1} flippable\"\n",
    "    #     )\n",
    "    #     print(f\"{num_most} dimerisations have {most_flipped}/{lattice.n_plaquettes+1} flippable\")\n",
    "\n",
    "\n",
    "        # fig, ax = plt.subplots(1, 3, figsize=(15, 5))\n",
    "        # pl.plot_edges(lattice, color='black', ax = ax[0])\n",
    "        # pl.plot_edges(dual, color='red', linewidth=0.3, ax = ax[0])\n",
    "\n",
    "        # pl.plot_plaquettes(lattice, plaquette_scores[least_flippable_indices[0]], colors, ax=ax[1])\n",
    "        # pl.plot_edges(lattice, all_dimerisations[least_flippable_indices[0]], [\"k\", \"yellow\"], ax=ax[1], linewidth=2)\n",
    "        # ax[1].set_title(f\"Least flippable, {external_scores[least_flippable_indices[0]]} external\")\n",
    "\n",
    "        # pl.plot_plaquettes(lattice, plaquette_scores[most_flippable_indices[0]], colors, ax=ax[2])\n",
    "        # pl.plot_edges(lattice, all_dimerisations[most_flippable_indices[0]], [\"k\", \"yellow\"], ax=ax[2], linewidth=2)\n",
    "        # ax[2].set_title(f\"Most flippable, {external_scores[most_flippable_indices[0]]} external\")\n",
    "\n",
    "\n",
    "        # for a in ax:\n",
    "        #     a.axis('off')\n",
    "        # plt.show()  \n"
   ]
  },
  {
   "cell_type": "code",
   "execution_count": null,
   "metadata": {},
   "outputs": [],
   "source": []
  }
 ],
 "metadata": {
  "kernelspec": {
   "display_name": "phys_fast",
   "language": "python",
   "name": "python3"
  },
  "language_info": {
   "codemirror_mode": {
    "name": "ipython",
    "version": 3
   },
   "file_extension": ".py",
   "mimetype": "text/x-python",
   "name": "python",
   "nbconvert_exporter": "python",
   "pygments_lexer": "ipython3",
   "version": "3.12.4"
  }
 },
 "nbformat": 4,
 "nbformat_minor": 2
}
